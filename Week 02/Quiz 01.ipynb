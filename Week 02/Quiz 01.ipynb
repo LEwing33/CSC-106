{
 "cells": [
  {
   "cell_type": "markdown",
   "id": "418024cc-17ba-47cb-8188-0ade825d6e42",
   "metadata": {},
   "source": [
    "# Question 1"
   ]
  },
  {
   "cell_type": "raw",
   "id": "0af8a7aa-e9de-4431-8869-47b5381eabab",
   "metadata": {},
   "source": [
    "What is the output of the individual cells. (1 point each)\n",
    "\n",
    "If there is an error on any of the cells, report the error. (1 point each)\n",
    "\n",
    "Propose a fix for the error. (1 point each)"
   ]
  },
  {
   "cell_type": "markdown",
   "id": "a6a1a11c-b9a6-4657-ba53-fb3f4cdd743c",
   "metadata": {},
   "source": [
    "## CELL 1"
   ]
  },
  {
   "cell_type": "code",
   "execution_count": 7,
   "id": "a0366186-a288-47cd-bab2-a6de89f4af43",
   "metadata": {},
   "outputs": [
    {
     "ename": "SyntaxError",
     "evalue": "unterminated string literal (detected at line 1) (3584330437.py, line 1)",
     "output_type": "error",
     "traceback": [
      "\u001b[1;36m  Cell \u001b[1;32mIn[7], line 1\u001b[1;36m\u001b[0m\n\u001b[1;33m    print(Hallo Class\")\u001b[0m\n\u001b[1;37m                     ^\u001b[0m\n\u001b[1;31mSyntaxError\u001b[0m\u001b[1;31m:\u001b[0m unterminated string literal (detected at line 1)\n"
     ]
    }
   ],
   "source": [
    "print(Hallo Class\")"
   ]
  },
  {
   "cell_type": "code",
   "execution_count": 46,
   "id": "f24e5065-71d1-4280-8346-c6a5797885ab",
   "metadata": {},
   "outputs": [
    {
     "name": "stdout",
     "output_type": "stream",
     "text": [
      "Hello Class\n"
     ]
    }
   ],
   "source": [
    "print(\"Hello Class\")"
   ]
  },
  {
   "cell_type": "markdown",
   "id": "677c955c-57ce-4ea3-8f92-fb48f03aff77",
   "metadata": {},
   "source": [
    "## Cell 2"
   ]
  },
  {
   "cell_type": "code",
   "execution_count": 44,
   "id": "878d4d93-fc3e-41e7-96c9-38c45c2b6d20",
   "metadata": {},
   "outputs": [
    {
     "ename": "SyntaxError",
     "evalue": "unterminated string literal (detected at line 1) (136497206.py, line 1)",
     "output_type": "error",
     "traceback": [
      "\u001b[1;36m  Cell \u001b[1;32mIn[44], line 1\u001b[1;36m\u001b[0m\n\u001b[1;33m    print(\"Hallo Class)\u001b[0m\n\u001b[1;37m          ^\u001b[0m\n\u001b[1;31mSyntaxError\u001b[0m\u001b[1;31m:\u001b[0m unterminated string literal (detected at line 1)\n"
     ]
    }
   ],
   "source": [
    "print(\"Hallo Class)"
   ]
  },
  {
   "cell_type": "code",
   "execution_count": 42,
   "id": "9de35fea-0799-4725-af0e-5835e75454b9",
   "metadata": {},
   "outputs": [
    {
     "name": "stdout",
     "output_type": "stream",
     "text": [
      "Hello Class\n"
     ]
    }
   ],
   "source": [
    "print(\"Hello Class\")"
   ]
  },
  {
   "cell_type": "markdown",
   "id": "4c57888b-6148-479a-8ef8-afa024dd4928",
   "metadata": {},
   "source": [
    "## Cell 3"
   ]
  },
  {
   "cell_type": "code",
   "execution_count": 38,
   "id": "a470fcac-7ea5-4132-8ead-475c586ce5c6",
   "metadata": {},
   "outputs": [
    {
     "name": "stdout",
     "output_type": "stream",
     "text": [
      "Hello Class\n"
     ]
    }
   ],
   "source": [
    "print(\"Hello Class\")"
   ]
  },
  {
   "cell_type": "markdown",
   "id": "65443957-6109-4c88-a7f4-cec9d2f2cc0a",
   "metadata": {},
   "source": [
    "## Cell 4"
   ]
  },
  {
   "cell_type": "code",
   "execution_count": 22,
   "id": "76136bbb-3c13-4d5d-942a-01547a73c4d6",
   "metadata": {},
   "outputs": [
    {
     "ename": "SyntaxError",
     "evalue": "unterminated string literal (detected at line 1) (1449310505.py, line 1)",
     "output_type": "error",
     "traceback": [
      "\u001b[1;36m  Cell \u001b[1;32mIn[22], line 1\u001b[1;36m\u001b[0m\n\u001b[1;33m    print(Hallo Class')\u001b[0m\n\u001b[1;37m                     ^\u001b[0m\n\u001b[1;31mSyntaxError\u001b[0m\u001b[1;31m:\u001b[0m unterminated string literal (detected at line 1)\n"
     ]
    }
   ],
   "source": [
    "print(Hallo Class')"
   ]
  },
  {
   "cell_type": "code",
   "execution_count": 34,
   "id": "95240b8a-bbca-4b4f-95a6-3b8818c699a6",
   "metadata": {},
   "outputs": [
    {
     "name": "stdout",
     "output_type": "stream",
     "text": [
      "Hello Class\n"
     ]
    }
   ],
   "source": [
    "print('Hello Class')"
   ]
  },
  {
   "cell_type": "markdown",
   "id": "c0a71170-c9cb-48c4-8744-63438e128741",
   "metadata": {},
   "source": [
    "## Cell 5"
   ]
  },
  {
   "cell_type": "code",
   "execution_count": 27,
   "id": "e703402b-d20e-44ec-825e-df3e2c984086",
   "metadata": {},
   "outputs": [
    {
     "ename": "SyntaxError",
     "evalue": "unterminated string literal (detected at line 1) (1535394561.py, line 1)",
     "output_type": "error",
     "traceback": [
      "\u001b[1;36m  Cell \u001b[1;32mIn[27], line 1\u001b[1;36m\u001b[0m\n\u001b[1;33m    print('Hallo Class)\u001b[0m\n\u001b[1;37m          ^\u001b[0m\n\u001b[1;31mSyntaxError\u001b[0m\u001b[1;31m:\u001b[0m unterminated string literal (detected at line 1)\n"
     ]
    }
   ],
   "source": [
    "print('Hallo Class)"
   ]
  },
  {
   "cell_type": "code",
   "execution_count": 36,
   "id": "850ab205-f2d8-45d5-a6db-c70ab772b8e1",
   "metadata": {},
   "outputs": [
    {
     "name": "stdout",
     "output_type": "stream",
     "text": [
      "Hello Class\n"
     ]
    }
   ],
   "source": [
    "print('Hello Class')"
   ]
  },
  {
   "cell_type": "markdown",
   "id": "0c4ae825-cd60-4722-a3eb-94f13b05741c",
   "metadata": {},
   "source": [
    "## Cell 6"
   ]
  },
  {
   "cell_type": "code",
   "execution_count": 32,
   "id": "9dcb92c5-bfe2-4e7b-ab45-aaeec87ed03f",
   "metadata": {},
   "outputs": [
    {
     "name": "stdout",
     "output_type": "stream",
     "text": [
      "Hello Clas\n"
     ]
    }
   ],
   "source": [
    "print('Hello Clas')"
   ]
  },
  {
   "cell_type": "code",
   "execution_count": 48,
   "id": "a5635922-3be6-4f37-8363-d3d7f8d68194",
   "metadata": {},
   "outputs": [
    {
     "name": "stdout",
     "output_type": "stream",
     "text": [
      "Hello Class\n"
     ]
    }
   ],
   "source": [
    "print('Hello Class')"
   ]
  },
  {
   "cell_type": "markdown",
   "id": "1c80c1b9-6ccd-47e4-9afd-ab52565d20fe",
   "metadata": {},
   "source": [
    "## Cell 7"
   ]
  },
  {
   "cell_type": "code",
   "execution_count": 51,
   "id": "cab23ece-8617-444f-a3a3-f2f8a60ef6cb",
   "metadata": {},
   "outputs": [
    {
     "ename": "SyntaxError",
     "evalue": "unterminated string literal (detected at line 1) (337988708.py, line 1)",
     "output_type": "error",
     "traceback": [
      "\u001b[1;36m  Cell \u001b[1;32mIn[51], line 1\u001b[1;36m\u001b[0m\n\u001b[1;33m    print(\"Hello Class')\u001b[0m\n\u001b[1;37m          ^\u001b[0m\n\u001b[1;31mSyntaxError\u001b[0m\u001b[1;31m:\u001b[0m unterminated string literal (detected at line 1)\n"
     ]
    }
   ],
   "source": [
    "print(\"Hello Class')"
   ]
  },
  {
   "cell_type": "code",
   "execution_count": 53,
   "id": "35ef3f3e-c8e9-4a47-b006-0d3b70f31278",
   "metadata": {},
   "outputs": [
    {
     "name": "stdout",
     "output_type": "stream",
     "text": [
      "Hello Class\n"
     ]
    }
   ],
   "source": [
    "print(\"Hello Class\")"
   ]
  },
  {
   "cell_type": "markdown",
   "id": "7e6ec743-e06b-4547-b1a8-593d2cc241f1",
   "metadata": {},
   "source": [
    "## Cell 8"
   ]
  },
  {
   "cell_type": "code",
   "execution_count": 56,
   "id": "fa5e69af-df0f-4954-9fea-060fe30ad1ce",
   "metadata": {},
   "outputs": [
    {
     "ename": "SyntaxError",
     "evalue": "unterminated string literal (detected at line 1) (3691414317.py, line 1)",
     "output_type": "error",
     "traceback": [
      "\u001b[1;36m  Cell \u001b[1;32mIn[56], line 1\u001b[1;36m\u001b[0m\n\u001b[1;33m    print('Hello Class\")\u001b[0m\n\u001b[1;37m          ^\u001b[0m\n\u001b[1;31mSyntaxError\u001b[0m\u001b[1;31m:\u001b[0m unterminated string literal (detected at line 1)\n"
     ]
    }
   ],
   "source": [
    "print('Hello Class\")"
   ]
  },
  {
   "cell_type": "code",
   "execution_count": 58,
   "id": "db0f3808-2147-471d-93fc-476acae01272",
   "metadata": {},
   "outputs": [
    {
     "name": "stdout",
     "output_type": "stream",
     "text": [
      "Hello Class\n"
     ]
    }
   ],
   "source": [
    "print('Hello Class')"
   ]
  },
  {
   "cell_type": "markdown",
   "id": "6ceed552-a291-4147-b54e-cc27c924fce0",
   "metadata": {},
   "source": [
    "## Cell 9"
   ]
  },
  {
   "cell_type": "code",
   "execution_count": 61,
   "id": "67096eca-0d1d-4790-a8d6-202c874d0c2a",
   "metadata": {},
   "outputs": [
    {
     "name": "stdout",
     "output_type": "stream",
     "text": [
      "Hello' Class\n"
     ]
    }
   ],
   "source": [
    "print(\"Hello' Class\")"
   ]
  },
  {
   "cell_type": "markdown",
   "id": "bdde324f-1c39-4147-9b75-60760c46b749",
   "metadata": {},
   "source": [
    "## Cell 10"
   ]
  },
  {
   "cell_type": "code",
   "execution_count": 64,
   "id": "5236c3fa-9540-42fa-aa41-67b699d72c49",
   "metadata": {},
   "outputs": [
    {
     "ename": "SyntaxError",
     "evalue": "unterminated string literal (detected at line 1) (3210738619.py, line 1)",
     "output_type": "error",
     "traceback": [
      "\u001b[1;36m  Cell \u001b[1;32mIn[64], line 1\u001b[1;36m\u001b[0m\n\u001b[1;33m    print('Hello Class'\")\u001b[0m\n\u001b[1;37m                       ^\u001b[0m\n\u001b[1;31mSyntaxError\u001b[0m\u001b[1;31m:\u001b[0m unterminated string literal (detected at line 1)\n"
     ]
    }
   ],
   "source": [
    "print('Hello Class'\")"
   ]
  },
  {
   "cell_type": "code",
   "execution_count": 66,
   "id": "565638ee-5117-456e-9781-a857741a8f5b",
   "metadata": {},
   "outputs": [
    {
     "name": "stdout",
     "output_type": "stream",
     "text": [
      "Hello Class\n"
     ]
    }
   ],
   "source": [
    "print('Hello Class')"
   ]
  },
  {
   "cell_type": "code",
   "execution_count": null,
   "id": "18131cf6-9758-4eae-b7f8-50502dd19e0a",
   "metadata": {},
   "outputs": [],
   "source": []
  }
 ],
 "metadata": {
  "kernelspec": {
   "display_name": "Python 3 (ipykernel)",
   "language": "python",
   "name": "python3"
  },
  "language_info": {
   "codemirror_mode": {
    "name": "ipython",
    "version": 3
   },
   "file_extension": ".py",
   "mimetype": "text/x-python",
   "name": "python",
   "nbconvert_exporter": "python",
   "pygments_lexer": "ipython3",
   "version": "3.12.4"
  }
 },
 "nbformat": 4,
 "nbformat_minor": 5
}
